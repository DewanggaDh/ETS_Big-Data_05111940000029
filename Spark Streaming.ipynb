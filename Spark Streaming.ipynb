{
 "cells": [
  {
   "cell_type": "code",
   "execution_count": 98,
   "id": "aaaefff9",
   "metadata": {},
   "outputs": [],
   "source": [
    "from pyspark.sql import SparkSession"
   ]
  },
  {
   "cell_type": "code",
   "execution_count": 99,
   "id": "54b8cea1",
   "metadata": {},
   "outputs": [],
   "source": [
    "spark = SparkSession.builder.master('local').appName(\"News Stream\").getOrCreate()"
   ]
  },
  {
   "cell_type": "code",
   "execution_count": 100,
   "id": "0698aad2",
   "metadata": {},
   "outputs": [],
   "source": [
    "from pyspark.sql.types import StructType, StructField, IntegerType, StringType"
   ]
  },
  {
   "cell_type": "code",
   "execution_count": 101,
   "id": "fc0d4c85",
   "metadata": {},
   "outputs": [],
   "source": [
    "spark.conf.set(\"spark.sql.streaming.schemaInference\", True)"
   ]
  },
  {
   "cell_type": "code",
   "execution_count": 102,
   "id": "71fe4925",
   "metadata": {},
   "outputs": [
    {
     "name": "stdout",
     "output_type": "stream",
     "text": [
      "<pyspark.sql.session.SparkSession object at 0x000001821FF530A0>\n"
     ]
    }
   ],
   "source": [
    "print(spark)"
   ]
  },
  {
   "cell_type": "code",
   "execution_count": 103,
   "id": "3bb482a5",
   "metadata": {},
   "outputs": [],
   "source": [
    "# import sys\n",
    "# import os\n",
    "\n",
    "# os.environ['HADOOP_HOME'] = \"C:/hadoop\"\n",
    "# sys.path.append(\"C:/hadoop\")"
   ]
  },
  {
   "cell_type": "code",
   "execution_count": 104,
   "id": "77cc5e61",
   "metadata": {},
   "outputs": [],
   "source": [
    "df_1 = spark.readStream.json('input-05111940000029/news-1.json')"
   ]
  },
  {
   "cell_type": "code",
   "execution_count": 105,
   "id": "28833145",
   "metadata": {},
   "outputs": [
    {
     "name": "stdout",
     "output_type": "stream",
     "text": [
      "root\n",
      " |-- authors: string (nullable = true)\n",
      " |-- category: string (nullable = true)\n",
      " |-- date: string (nullable = true)\n",
      " |-- headline: string (nullable = true)\n",
      " |-- link: string (nullable = true)\n",
      " |-- short_description: string (nullable = true)\n",
      "\n"
     ]
    }
   ],
   "source": [
    "df_1.printSchema()"
   ]
  },
  {
   "cell_type": "code",
   "execution_count": 106,
   "id": "94ebc9af",
   "metadata": {
    "scrolled": true
   },
   "outputs": [],
   "source": [
    "scheme = StructType([StructField(\"authors\", StringType(), True),\n",
    "                    StructField(\"category\", StringType(), True),\n",
    "                    StructField(\"date\", StringType(), True),\n",
    "                    StructField(\"headline\", StringType(), True),\n",
    "                    StructField(\"link\", StringType(), True),\n",
    "                    StructField(\"short_description\", StringType(), True)])"
   ]
  },
  {
   "cell_type": "code",
   "execution_count": 117,
   "id": "a34fb46a",
   "metadata": {},
   "outputs": [],
   "source": [
    "df_2 = spark.readStream.option(\"maxFilesPerTrigger\", 3).load(\"input-05111940000029\")\n",
    "#df_2 = spark.readStream.schema(scheme).json('input-05111940000029')"
   ]
  },
  {
   "cell_type": "code",
   "execution_count": null,
   "id": "704acb12",
   "metadata": {},
   "outputs": [],
   "source": [
    "grup = df_2.select(\"category\").groupby(\"category\").count()"
   ]
  },
  {
   "cell_type": "code",
   "execution_count": null,
   "id": "0d15d5a1",
   "metadata": {},
   "outputs": [],
   "source": [
    "grup.printSchema()"
   ]
  },
  {
   "cell_type": "code",
   "execution_count": null,
   "id": "b51f7f7d",
   "metadata": {},
   "outputs": [],
   "source": [
    "grup.writeStream.format(\"csv\").option(\"path\", ).outputMode(\"append\").start().awaitTermination()"
   ]
  }
 ],
 "metadata": {
  "kernelspec": {
   "display_name": "Python 3 (ipykernel)",
   "language": "python",
   "name": "python3"
  },
  "language_info": {
   "codemirror_mode": {
    "name": "ipython",
    "version": 3
   },
   "file_extension": ".py",
   "mimetype": "text/x-python",
   "name": "python",
   "nbconvert_exporter": "python",
   "pygments_lexer": "ipython3",
   "version": "3.9.16"
  }
 },
 "nbformat": 4,
 "nbformat_minor": 5
}
